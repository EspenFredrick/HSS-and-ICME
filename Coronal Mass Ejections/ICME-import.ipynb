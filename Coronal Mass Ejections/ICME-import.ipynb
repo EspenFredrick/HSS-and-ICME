{
 "cells": [
  {
   "cell_type": "code",
   "metadata": {
    "collapsed": true,
    "ExecuteTime": {
     "end_time": "2025-01-14T20:33:42.464937Z",
     "start_time": "2025-01-14T20:33:40.534242Z"
    }
   },
   "source": [
    "from scripts.GetSatellitesGSM import get_artemis_gsm\n",
    "from scipy.stats import linregress, pearsonr\n",
    "import datetime as dt\n",
    "import matplotlib.pyplot as plt\n",
    "import matplotlib.dates as mdates\n",
    "import datetime as dt\n",
    "import pandas as pd\n",
    "import numpy as np\n",
    "import os"
   ],
   "outputs": [],
   "execution_count": 1
  },
  {
   "cell_type": "code",
   "source": [
    "'''\n",
    "This cell  imports a list of ICMEs by Richardson and Cane and compares them to a list of times when ARTEMIS is on the E-S line\n",
    "'''\n",
    "\n",
    "icme_list = pd.read_csv('lists/icme-list.csv', header=0, parse_dates=[0, 1, 2], date_format='%Y/%m/%d %H%M')    # Import the list of ICMEs observed by OMNI\n",
    "artemis_dates = pd.read_csv('../artemis-near-ESline.csv', header=0,  parse_dates=[0, 1]) # Import times when ARTEMIS was near the E-S line\n",
    "\n",
    "valid_starts = []\n",
    "valid_stops = []\n",
    "# This loop iterates through this list of starts and stops when ARTEMIS is on the E-S line and compares them to the intervals of HSSs\n",
    "\n",
    "for astart, astop in zip(artemis_dates['Date_Start'], artemis_dates['Date_Stop']):\n",
    "    for hstart, hstop in zip(icme_list['ICME Start (UT)'], icme_list['ICME Stop (UT)']):\n",
    "        if (astart <= hstop) and (astop >= hstart): # Check if intervals overlap\n",
    "            valid_start = max(astart, hstart)   # Find the latter of the two start times\n",
    "            valid_stop = min(astop, hstop)  # Find the earlier of the two end times\n",
    "\n",
    "            valid_starts.append(dt.datetime.strftime(valid_start, format='%Y-%m-%d %H:%M:%S'))\n",
    "            valid_stops.append(dt.datetime.strftime(valid_stop, format='%Y-%m-%d %H:%M:%S'))\n",
    "\n",
    "            fig, ax = plt.subplots(figsize=(15, 2))\n",
    "            ax.barh(0.7, (hstop - hstart), left=hstart, height=0.4, color='red', alpha=0.6, label='ICME')\n",
    "            ax.barh(0.3, (astop - astart), left=astart, height=0.4, color='blue', alpha=0.6, label='ARTEMIS')\n",
    "\n",
    "            ax.set_title(f'Event {dt.datetime.strftime(valid_start, format=\"%Y-%m-%d\")}')\n",
    "            ax.set_yticks([])  # Remove y-axis ticks since they're not meaningful\n",
    "            ax.set_xlabel('Date and Time (UTC)')\n",
    "            ax.grid(True, alpha=0.3)\n",
    "            ax.legend(loc='upper left')\n",
    "\n",
    "            # Format x-axis to show dates nicely\n",
    "            #date_formatter = mdates.DateFormatter('%Y-%m-%d %H:%M')\n",
    "            #ax.xaxis.set_major_formatter(date_formatter)\n",
    "\n",
    "            ax.xaxis.set_major_locator(mdates.HourLocator(interval=6))\n",
    "            ax.xaxis.set_major_formatter(mdates.DateFormatter('%m-%d %H:%M'))\n",
    "            ax.xaxis.set_minor_locator(mdates.HourLocator(interval=1))\n",
    "            #plt.gcf().autofmt_xdate()\n",
    "\n",
    "            # Adjust layout to prevent date labels from being cut off\n",
    "            plt.tight_layout()\n",
    "\n",
    "            plt.savefig(f'lists/overlap_plots/event_{dt.datetime.strftime(valid_start, format=\"%Y-%m-%d\")}.png', bbox_inches='tight', dpi=300)\n",
    "            plt.close()\n",
    "\n",
    "intervals = pd.DataFrame({'ARTEMIS_icme_start': valid_starts, 'ARTEMIS_icme_stop': valid_stops})  # Create a DataFrame with all the valid starts and stops\n",
    "intervals.to_csv('lists/ICME_intervals.csv', index=None) # Convert the dataframe to a CSV"
   ],
   "metadata": {
    "collapsed": false,
    "ExecuteTime": {
     "end_time": "2025-01-15T21:56:26.349347Z",
     "start_time": "2025-01-15T21:56:21.929020Z"
    }
   },
   "outputs": [],
   "execution_count": 24
  }
 ],
 "metadata": {
  "kernelspec": {
   "display_name": "Python 3",
   "language": "python",
   "name": "python3"
  },
  "language_info": {
   "codemirror_mode": {
    "name": "ipython",
    "version": 2
   },
   "file_extension": ".py",
   "mimetype": "text/x-python",
   "name": "python",
   "nbconvert_exporter": "python",
   "pygments_lexer": "ipython2",
   "version": "2.7.6"
  }
 },
 "nbformat": 4,
 "nbformat_minor": 0
}
