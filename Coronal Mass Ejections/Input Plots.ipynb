{
 "cells": [
  {
   "cell_type": "code",
   "source": [
    " from scripts.GetSatellitesGSM import get_artemis_gsm\n",
    "from scipy.stats import linregress, pearsonr\n",
    "import datetime as dt\n",
    "import matplotlib.pyplot as plt\n",
    "import matplotlib.dates as mdates\n",
    "import datetime as dt\n",
    "import pandas as pd\n",
    "import numpy as np\n",
    "import os\n",
    "# Plots all three events with the 4-hour prerun interval. It makes this interval dashed."
   ],
   "metadata": {
    "collapsed": false,
    "ExecuteTime": {
     "end_time": "2025-01-16T21:33:46.163907Z",
     "start_time": "2025-01-16T21:33:44.791473Z"
    }
   },
   "outputs": [],
   "execution_count": 2
  },
  {
   "cell_type": "code",
   "source": [
    "os.makedirs('plots/candidates', exist_ok=True)\n",
    "\n",
    "keys = ['BX_GSM','BY_GSM','BZ_GSM','VX','VY','VZ','N','T']\n",
    "names = [r'$B_x$ GSM (nT)', r'$B_y$ GSM (nT)', r'$B_z$ GSM (nT)', r'$V_x$ GSM (km/s)', r'$V_y$ GSM (km/s)', r'$V_z$ GSM (km/s)', r'Proton Density (n/cc)', 'Temperature (K)']\n",
    "\n",
    "omniFileList = sorted(filter(lambda x: os.path.isfile(os.path.join('candidate_solar_wind/omni', x)), os.listdir('candidate_solar_wind/omni')))\n",
    "artemisFileList = sorted(filter(lambda x: os.path.isfile(os.path.join('candidate_solar_wind/artemis', x)), os.listdir('candidate_solar_wind/artemis')))\n",
    "\n",
    "file_pairs = [(os.path.join('candidate_solar_wind/artemis', artemis_file), os.path.join('candidate_solar_wind/omni', omni_file)) for artemis_file, omni_file in zip(artemisFileList, omniFileList) if not artemis_file.startswith('.') and not 'copy' in artemis_file]\n",
    "\n",
    "for filename in file_pairs:\n",
    "    print(f\"Processing file: {filename}\")\n",
    "    artemis_data = pd.read_csv(filename[0], delimiter=',', header=0)\n",
    "    omni_data = pd.read_csv(filename[1], delimiter=',', header=0)\n",
    "\n",
    "    artemis_data['Time'] = pd.to_datetime(artemis_data['Time'], format='%Y-%m-%d %H:%M:%S')\n",
    "    omni_data['Time'] = pd.to_datetime(omni_data['Time'], format='%Y-%m-%d %H:%M:%S')\n",
    "\n",
    "    x_start = artemis_data['Time'].iloc[0]+dt.timedelta(minutes=30)\n",
    "    x_end = artemis_data['Time'].iloc[-1]\n",
    "\n",
    "    artemis_truncated = artemis_data[(artemis_data['Time'] >= x_start) & (artemis_data['Time'] <= x_end)].drop(columns=['Unnamed: 0']).reset_index(drop=True)\n",
    "    omni_truncated = omni_data[(omni_data['Time'] >= x_start) & (omni_data['Time'] <= x_end)].drop(columns=['Unnamed: 0']).reset_index(drop=True)\n",
    "    #artemis_truncated = artemis_data.drop(columns=['Unnamed: 0']).reset_index(drop=True)\n",
    "    #omni_truncated = omni_data.drop(columns=['Unnamed: 0']).reset_index(drop=True)\n",
    "\n",
    "    fig, ax = plt.subplots(len(keys), 1, figsize=(12, 2*len(keys)), sharex=True)\n",
    "\n",
    "    for i, (k, n) in enumerate(zip(keys, names)):\n",
    "        ax[i].plot(artemis_truncated['Time'], artemis_truncated[k], label='Artemis')\n",
    "        ax[i].plot(omni_truncated['Time'], omni_truncated[k], label='Omni')\n",
    "        ax[i].set_xlim([x_start, x_end])\n",
    "        ax[i].set_ylabel(n)\n",
    "        ax[i].grid(visible=True, which='both', axis='both')\n",
    "\n",
    "    ax[-1].xaxis.set_major_locator(mdates.HourLocator(interval=3))\n",
    "    ax[-1].xaxis.set_major_formatter(mdates.DateFormatter('%H:%M'))\n",
    "    ax[-1].xaxis.set_minor_locator(mdates.HourLocator(interval=1))\n",
    "    ax[-1].set_xlabel('Time UTC')\n",
    "\n",
    "    ax[0].set_title(f'Event on {x_start.strftime(\"%Y-%m-%d\")}')\n",
    "    plt.legend(loc='lower left')\n",
    "    plt.tight_layout()\n",
    "    plt.savefig(f'plots/candidates_from_filtered/{x_start.strftime(\"%Y-%m-%d\")}.png', dpi=300)\n",
    "    plt.close()"
   ],
   "metadata": {
    "collapsed": false,
    "ExecuteTime": {
     "end_time": "2025-01-16T21:38:20.074028Z",
     "start_time": "2025-01-16T21:37:57.941528Z"
    }
   },
   "outputs": [
    {
     "name": "stdout",
     "output_type": "stream",
     "text": [
      "Processing file: ('candidate_solar_wind/artemis/artemis_2012-01-23_00-00.csv', 'candidate_solar_wind/omni/omni_2012-01-23_00-00.csv')\n",
      "Processing file: ('candidate_solar_wind/artemis/artemis_2012-01-23_23-00.csv', 'candidate_solar_wind/omni/omni_2012-01-23_23-00.csv')\n",
      "Processing file: ('candidate_solar_wind/artemis/artemis_2012-11-14_08-00.csv', 'candidate_solar_wind/omni/omni_2012-11-14_08-00.csv')\n",
      "Processing file: ('candidate_solar_wind/artemis/artemis_2013-06-08_00-00.csv', 'candidate_solar_wind/omni/omni_2013-06-08_00-00.csv')\n",
      "Processing file: ('candidate_solar_wind/artemis/artemis_2013-06-09_10-00.csv', 'candidate_solar_wind/omni/omni_2013-06-09_10-00.csv')\n",
      "Processing file: ('candidate_solar_wind/artemis/artemis_2013-07-08_00-00.csv', 'candidate_solar_wind/omni/omni_2013-07-08_00-00.csv')\n",
      "Processing file: ('candidate_solar_wind/artemis/artemis_2013-12-03_00-00.csv', 'candidate_solar_wind/omni/omni_2013-12-03_00-00.csv')\n",
      "Processing file: ('candidate_solar_wind/artemis/artemis_2014-04-30_20-00.csv', 'candidate_solar_wind/omni/omni_2014-04-30_20-00.csv')\n",
      "Processing file: ('candidate_solar_wind/artemis/artemis_2014-12-23_04-00.csv', 'candidate_solar_wind/omni/omni_2014-12-23_04-00.csv')\n",
      "Processing file: ('candidate_solar_wind/artemis/artemis_2015-05-19_20-00.csv', 'candidate_solar_wind/omni/omni_2015-05-19_20-00.csv')\n",
      "Processing file: ('candidate_solar_wind/artemis/artemis_2015-08-16_21-00.csv', 'candidate_solar_wind/omni/omni_2015-08-16_21-00.csv')\n",
      "Processing file: ('candidate_solar_wind/artemis/artemis_2015-09-14_07-00.csv', 'candidate_solar_wind/omni/omni_2015-09-14_07-00.csv')\n",
      "Processing file: ('candidate_solar_wind/artemis/artemis_2016-08-03_14-00.csv', 'candidate_solar_wind/omni/omni_2016-08-03_14-00.csv')\n",
      "Processing file: ('candidate_solar_wind/artemis/artemis_2017-08-23_04-00.csv', 'candidate_solar_wind/omni/omni_2017-08-23_04-00.csv')\n",
      "Processing file: ('candidate_solar_wind/artemis/artemis_2021-05-13_15-00.csv', 'candidate_solar_wind/omni/omni_2021-05-13_15-00.csv')\n",
      "Processing file: ('candidate_solar_wind/artemis/artemis_2021-11-05_07-00.csv', 'candidate_solar_wind/omni/omni_2021-11-05_07-00.csv')\n",
      "Processing file: ('candidate_solar_wind/artemis/artemis_2022-04-01_12-00.csv', 'candidate_solar_wind/omni/omni_2022-04-01_12-00.csv')\n",
      "Processing file: ('candidate_solar_wind/artemis/artemis_2023-04-20_08-00.csv', 'candidate_solar_wind/omni/omni_2023-04-20_08-00.csv')\n",
      "Processing file: ('candidate_solar_wind/artemis/artemis_2023-05-21_10-00.csv', 'candidate_solar_wind/omni/omni_2023-05-21_10-00.csv')\n",
      "Processing file: ('candidate_solar_wind/artemis/artemis_2023-11-13_12-00.csv', 'candidate_solar_wind/omni/omni_2023-11-13_12-00.csv')\n"
     ]
    }
   ],
   "execution_count": 4
  },
  {
   "metadata": {},
   "cell_type": "code",
   "outputs": [],
   "execution_count": null,
   "source": ""
  }
 ],
 "metadata": {
  "kernelspec": {
   "display_name": "Python 3",
   "language": "python",
   "name": "python3"
  },
  "language_info": {
   "codemirror_mode": {
    "name": "ipython",
    "version": 2
   },
   "file_extension": ".py",
   "mimetype": "text/x-python",
   "name": "python",
   "nbconvert_exporter": "python",
   "pygments_lexer": "ipython2",
   "version": "2.7.6"
  }
 },
 "nbformat": 4,
 "nbformat_minor": 0
}
